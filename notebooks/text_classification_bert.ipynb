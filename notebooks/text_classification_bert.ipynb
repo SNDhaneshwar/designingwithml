{
  "cells": [
    {
      "cell_type": "markdown",
      "metadata": {},
      "source": [
        "## Text Classification with Huggingface BERT models\n",
        "\n",
        "This notebook demonstrates finetuning a Huggingface BERT model on the task of text classification using the Tensorflow framework. It also provides examples on running predictions using the huggingface `pipeline` api and a custom prediction method."
      ]
    },
    {
      "cell_type": "code",
      "execution_count": 2,
      "metadata": {
        "id": "bJsMIIdmmIFR"
      },
      "outputs": [
        {
          "name": "stdout",
          "output_type": "stream",
          "text": [
            "\u001b[33mWARNING: You are using pip version 22.0.4; however, version 22.1 is available.\n",
            "You should consider upgrading via the '/opt/python/latest/bin/python3 -m pip install --upgrade pip' command.\u001b[0m\u001b[33m\n",
            "\u001b[0m"
          ]
        }
      ],
      "source": [
        "!pip install -q transformers pandas tqdm tensorflow"
      ]
    },
    {
      "cell_type": "code",
      "execution_count": 3,
      "metadata": {
        "colab": {
          "base_uri": "https://localhost:8080/"
        },
        "id": "ZCxlU_iXrkJ-",
        "outputId": "d4e61fc8-3750-48b1-d4a0-e4c3648ae75f"
      },
      "outputs": [
        {
          "name": "stderr",
          "output_type": "stream",
          "text": [
            "2022-05-17 18:14:03.162196: W tensorflow/stream_executor/platform/default/dso_loader.cc:64] Could not load dynamic library 'libcudart.so.11.0'; dlerror: libcudart.so.11.0: cannot open shared object file: No such file or directory\n",
            "2022-05-17 18:14:03.162232: I tensorflow/stream_executor/cuda/cudart_stub.cc:29] Ignore above cudart dlerror if you do not have a GPU set up on your machine.\n",
            "2022-05-17 18:14:12.111016: W tensorflow/stream_executor/platform/default/dso_loader.cc:64] Could not load dynamic library 'libcuda.so.1'; dlerror: libcuda.so.1: cannot open shared object file: No such file or directory\n",
            "2022-05-17 18:14:12.111060: W tensorflow/stream_executor/cuda/cuda_driver.cc:269] failed call to cuInit: UNKNOWN ERROR (303)\n",
            "2022-05-17 18:14:12.111089: I tensorflow/stream_executor/cuda/cuda_diagnostics.cc:156] kernel driver does not appear to be running on this host (codespaces-d93b5b): /proc/driver/nvidia/version does not exist\n",
            "2022-05-17 18:14:12.131670: I tensorflow/core/platform/cpu_feature_guard.cc:151] This TensorFlow binary is optimized with oneAPI Deep Neural Network Library (oneDNN) to use the following CPU instructions in performance-critical operations:  AVX2 AVX512F FMA\n",
            "To enable them in other operations, rebuild TensorFlow with the appropriate compiler flags.\n"
          ]
        }
      ],
      "source": [
        "import pandas as pd\n",
        "from tqdm.notebook import tqdm\n",
        "from transformers import BertTokenizerFast,TFBertForSequenceClassification\n",
        "import numpy as np\n",
        "import tensorflow as tf \n",
        "from tqdm.notebook import tqdm "
      ]
    },
    {
      "cell_type": "markdown",
      "metadata": {},
      "source": [
        "## Data \n",
        "\n",
        "We create sample data to illustrate training."
      ]
    },
    {
      "cell_type": "code",
      "execution_count": 4,
      "metadata": {
        "id": "g8b5tUnZmPXU"
      },
      "outputs": [],
      "source": [
        "# example data political text has label 1, non-political text has label 0\n",
        "data = [{'text': 'The president provided his stance on the wind mill policy today', 'label': 1},\n",
        "{'text': 'The sun is shining bright and the day looks nice', 'label': 0},\n",
        "{'text': 'The senators gathers to deliberate on climate change laws', 'label': 1},\n",
        "{'text': 'Oh to be young and feel loves keen sting - Albus Dumbledore', 'label': 0}, \n",
        "]\n",
        "data = data * 100\n",
        "data = pd.DataFrame(data) "
      ]
    },
    {
      "cell_type": "markdown",
      "metadata": {},
      "source": [
        "## Initialize Model and Tokenizer\n",
        "\n",
        "Download a pretrained model and tokenizer."
      ]
    },
    {
      "cell_type": "code",
      "execution_count": 5,
      "metadata": {
        "colab": {
          "base_uri": "https://localhost:8080/"
        },
        "id": "zYMlnkJM4oc8",
        "outputId": "8ddcf30e-5aab-4646-f072-91c002406a91"
      },
      "outputs": [
        {
          "name": "stderr",
          "output_type": "stream",
          "text": [
            "All model checkpoint layers were used when initializing TFBertForSequenceClassification.\n",
            "\n",
            "Some layers of TFBertForSequenceClassification were not initialized from the model checkpoint at bert-base-uncased and are newly initialized: ['classifier']\n",
            "You should probably TRAIN this model on a down-stream task to be able to use it for predictions and inference.\n"
          ]
        }
      ],
      "source": [
        "model_output_path = \"models/text_classification\"\n",
        "model_path = \"bert-base-uncased\"\n",
        "\n",
        "tokenizer = BertTokenizerFast.from_pretrained(model_path)\n",
        "model = TFBertForSequenceClassification.from_pretrained(model_path)\n",
        "\n",
        "lr_schedule = tf.keras.optimizers.schedules.ExponentialDecay(\n",
        "    initial_learning_rate=5e-5,\n",
        "    decay_steps=10000,\n",
        "    decay_rate=0.9)\n",
        "optimizer = tf.keras.optimizers.Adam(learning_rate=lr_schedule)\n",
        "model.compile(optimizer=optimizer, \n",
        "              loss=tf.keras.losses.SparseCategoricalCrossentropy(from_logits=True),\n",
        "              metrics=tf.metrics.SparseCategoricalAccuracy()\n",
        "              ) # can also use any keras loss fn"
      ]
    },
    {
      "cell_type": "code",
      "execution_count": 6,
      "metadata": {
        "id": "njTBsBna-R0c"
      },
      "outputs": [],
      "source": [
        "# Convert the text in the dataframe to a `tf.data` pipeline.\n",
        "\n",
        "def get_train_ds(data, batch_size=32): \n",
        "  X_train, y_train = list(data.text), list(data.label) \n",
        "  train_encodings = tokenizer(X_train, truncation=True, padding=True)  \n",
        "  train_ds = tf.data.Dataset.from_tensor_slices((\n",
        "      dict(train_encodings),\n",
        "      y_train\n",
        "  ))   \n",
        "  train_ds = train_ds.batch(batch_size) \n",
        "  return train_ds\n",
        "\n",
        "## train and save model to disc\n",
        "def train_on_slice(train_ds, num_epochs=1):\n",
        "  model.fit(train_ds, epochs=num_epochs)   \n",
        "  tokenizer.save_pretrained(f\"{model_output_path}\")\n",
        "  model.save_pretrained(f\"{model_output_path}\")"
      ]
    },
    {
      "cell_type": "code",
      "execution_count": 7,
      "metadata": {
        "id": "8h8Yga2j-l_f"
      },
      "outputs": [
        {
          "name": "stdout",
          "output_type": "stream",
          "text": [
            "13/13 [==============================] - 51s 2s/step - loss: 0.2010 - sparse_categorical_accuracy: 0.9575\n"
          ]
        }
      ],
      "source": [
        "train_ds = get_train_ds(data)\n",
        "train_on_slice(train_ds) "
      ]
    },
    {
      "cell_type": "markdown",
      "metadata": {},
      "source": [
        "## Prediction with the Huggingface Pipeline api\n",
        "\n",
        "We can make predictions with the huggingface pipeline api or write a custom prediction method."
      ]
    },
    {
      "cell_type": "code",
      "execution_count": 8,
      "metadata": {},
      "outputs": [
        {
          "name": "stderr",
          "output_type": "stream",
          "text": [
            "Some layers from the model checkpoint at models/text_classification were not used when initializing TFBertForSequenceClassification: ['dropout_37']\n",
            "- This IS expected if you are initializing TFBertForSequenceClassification from the checkpoint of a model trained on another task or with another architecture (e.g. initializing a BertForSequenceClassification model from a BertForPreTraining model).\n",
            "- This IS NOT expected if you are initializing TFBertForSequenceClassification from the checkpoint of a model that you expect to be exactly identical (initializing a BertForSequenceClassification model from a BertForSequenceClassification model).\n",
            "All the layers of TFBertForSequenceClassification were initialized from the model checkpoint at models/text_classification.\n",
            "If your task is similar to the task the model of the checkpoint was trained on, you can already use TFBertForSequenceClassification for predictions without further training.\n"
          ]
        }
      ],
      "source": [
        "from transformers import TextClassificationPipeline\n",
        "\n",
        "tokenizer = BertTokenizerFast.from_pretrained(model_output_path)\n",
        "model = TFBertForSequenceClassification.from_pretrained(model_output_path, id2label={1: 'political', 0: 'general'} ) # modify labels as needed. \n",
        "pipe = TextClassificationPipeline(model=model, tokenizer=tokenizer)"
      ]
    },
    {
      "cell_type": "code",
      "execution_count": 9,
      "metadata": {},
      "outputs": [
        {
          "data": {
            "text/plain": [
              "[{'label': 'political', 'score': 0.9757537841796875},\n",
              " {'label': 'general', 'score': 0.9763540029525757},\n",
              " {'label': 'political', 'score': 0.9820919632911682},\n",
              " {'label': 'general', 'score': 0.9832737445831299},\n",
              " {'label': 'political', 'score': 0.9757537841796875}]"
            ]
          },
          "execution_count": 9,
          "metadata": {},
          "output_type": "execute_result"
        }
      ],
      "source": [
        "texts = data.text.tolist()[:5]\n",
        "preds = pipe(texts)\n",
        "preds"
      ]
    },
    {
      "cell_type": "code",
      "execution_count": 10,
      "metadata": {},
      "outputs": [
        {
          "data": {
            "text/html": [
              "<div>\n",
              "<style scoped>\n",
              "    .dataframe tbody tr th:only-of-type {\n",
              "        vertical-align: middle;\n",
              "    }\n",
              "\n",
              "    .dataframe tbody tr th {\n",
              "        vertical-align: top;\n",
              "    }\n",
              "\n",
              "    .dataframe thead th {\n",
              "        text-align: right;\n",
              "    }\n",
              "</style>\n",
              "<table border=\"1\" class=\"dataframe\">\n",
              "  <thead>\n",
              "    <tr style=\"text-align: right;\">\n",
              "      <th></th>\n",
              "      <th>label</th>\n",
              "      <th>score</th>\n",
              "      <th>text</th>\n",
              "    </tr>\n",
              "  </thead>\n",
              "  <tbody>\n",
              "    <tr>\n",
              "      <th>0</th>\n",
              "      <td>political</td>\n",
              "      <td>0.975754</td>\n",
              "      <td>The president provided his stance on the wind ...</td>\n",
              "    </tr>\n",
              "    <tr>\n",
              "      <th>1</th>\n",
              "      <td>general</td>\n",
              "      <td>0.976354</td>\n",
              "      <td>The sun is shining bright and the day looks nice</td>\n",
              "    </tr>\n",
              "    <tr>\n",
              "      <th>2</th>\n",
              "      <td>political</td>\n",
              "      <td>0.982092</td>\n",
              "      <td>The senators gathers to deliberate on climate ...</td>\n",
              "    </tr>\n",
              "    <tr>\n",
              "      <th>3</th>\n",
              "      <td>general</td>\n",
              "      <td>0.983274</td>\n",
              "      <td>Oh to be young and feel loves keen sting - Alb...</td>\n",
              "    </tr>\n",
              "    <tr>\n",
              "      <th>4</th>\n",
              "      <td>political</td>\n",
              "      <td>0.975754</td>\n",
              "      <td>The president provided his stance on the wind ...</td>\n",
              "    </tr>\n",
              "  </tbody>\n",
              "</table>\n",
              "</div>"
            ],
            "text/plain": [
              "       label     score                                               text\n",
              "0  political  0.975754  The president provided his stance on the wind ...\n",
              "1    general  0.976354   The sun is shining bright and the day looks nice\n",
              "2  political  0.982092  The senators gathers to deliberate on climate ...\n",
              "3    general  0.983274  Oh to be young and feel loves keen sting - Alb...\n",
              "4  political  0.975754  The president provided his stance on the wind ..."
            ]
          },
          "execution_count": 10,
          "metadata": {},
          "output_type": "execute_result"
        }
      ],
      "source": [
        "preds_df = pd.DataFrame(preds)\n",
        "preds_df[\"text\"] = texts\n",
        "preds_df"
      ]
    },
    {
      "cell_type": "markdown",
      "metadata": {},
      "source": [
        "## Custom Prediction Method \n",
        "\n",
        "Roll your own logic to batch. One potential improvement is to sort text first such that similar length text are in the same batch.   "
      ]
    },
    {
      "cell_type": "code",
      "execution_count": 11,
      "metadata": {},
      "outputs": [],
      "source": [
        "def extract_predictions( text, model, tokenizer, batch_size=256): \n",
        "  text = sorted(text, key=len)\n",
        "  a_preds = []\n",
        "  a_scores = []  \n",
        "  chunks = range(0,len(text), batch_size)\n",
        "  for i,x, in tqdm(enumerate(chunks), desc=\"batching and predicting\", total=len(chunks)):\n",
        "    start, end = x, x+batch_size\n",
        "    stext = text[start: end] \n",
        "    data_encodings = tokenizer(stext, truncation=True, padding=True)  \n",
        "    ds = tf.data.Dataset.from_tensor_slices(dict(data_encodings)).batch(batch_size)  \n",
        "\n",
        "    preds = model.predict(ds)[\"logits\"] \n",
        "    classes = np.argmax(preds, axis=1).tolist() \n",
        "    probs = tf.nn.softmax(preds) # get probabilities from logits\n",
        "    scores = np.amax(probs, axis=1).tolist()   \n",
        "    a_preds.extend(classes)\n",
        "    a_scores.extend(scores) \n",
        "   \n",
        "  ans = []\n",
        "  for i in range(len(a_preds)):  # map labels to label titles \n",
        "    ans.append({\n",
        "        \"label\": \"general\" if a_preds[i] == 0 else \"political\",\n",
        "        \"score\": a_scores[i]\n",
        "    })\n",
        "  result = pd.DataFrame(ans) \n",
        "  return result"
      ]
    },
    {
      "cell_type": "code",
      "execution_count": 12,
      "metadata": {},
      "outputs": [
        {
          "data": {
            "application/vnd.jupyter.widget-view+json": {
              "model_id": "9ff9263bb1d048f5a2b067a39ce95117",
              "version_major": 2,
              "version_minor": 0
            },
            "text/plain": [
              "batching and predicting:   0%|          | 0/1 [00:00<?, ?it/s]"
            ]
          },
          "metadata": {},
          "output_type": "display_data"
        },
        {
          "data": {
            "text/html": [
              "<div>\n",
              "<style scoped>\n",
              "    .dataframe tbody tr th:only-of-type {\n",
              "        vertical-align: middle;\n",
              "    }\n",
              "\n",
              "    .dataframe tbody tr th {\n",
              "        vertical-align: top;\n",
              "    }\n",
              "\n",
              "    .dataframe thead th {\n",
              "        text-align: right;\n",
              "    }\n",
              "</style>\n",
              "<table border=\"1\" class=\"dataframe\">\n",
              "  <thead>\n",
              "    <tr style=\"text-align: right;\">\n",
              "      <th></th>\n",
              "      <th>label</th>\n",
              "      <th>score</th>\n",
              "      <th>text</th>\n",
              "    </tr>\n",
              "  </thead>\n",
              "  <tbody>\n",
              "    <tr>\n",
              "      <th>0</th>\n",
              "      <td>general</td>\n",
              "      <td>0.976354</td>\n",
              "      <td>The president provided his stance on the wind ...</td>\n",
              "    </tr>\n",
              "    <tr>\n",
              "      <th>1</th>\n",
              "      <td>political</td>\n",
              "      <td>0.982092</td>\n",
              "      <td>The sun is shining bright and the day looks nice</td>\n",
              "    </tr>\n",
              "    <tr>\n",
              "      <th>2</th>\n",
              "      <td>general</td>\n",
              "      <td>0.983274</td>\n",
              "      <td>The senators gathers to deliberate on climate ...</td>\n",
              "    </tr>\n",
              "    <tr>\n",
              "      <th>3</th>\n",
              "      <td>political</td>\n",
              "      <td>0.975754</td>\n",
              "      <td>Oh to be young and feel loves keen sting - Alb...</td>\n",
              "    </tr>\n",
              "    <tr>\n",
              "      <th>4</th>\n",
              "      <td>political</td>\n",
              "      <td>0.975754</td>\n",
              "      <td>The president provided his stance on the wind ...</td>\n",
              "    </tr>\n",
              "  </tbody>\n",
              "</table>\n",
              "</div>"
            ],
            "text/plain": [
              "       label     score                                               text\n",
              "0    general  0.976354  The president provided his stance on the wind ...\n",
              "1  political  0.982092   The sun is shining bright and the day looks nice\n",
              "2    general  0.983274  The senators gathers to deliberate on climate ...\n",
              "3  political  0.975754  Oh to be young and feel loves keen sting - Alb...\n",
              "4  political  0.975754  The president provided his stance on the wind ..."
            ]
          },
          "execution_count": 12,
          "metadata": {},
          "output_type": "execute_result"
        }
      ],
      "source": [
        "preds_df = extract_predictions(texts, model, tokenizer)\n",
        "preds_df[\"text\"] = texts\n",
        "preds_df"
      ]
    },
    {
      "cell_type": "markdown",
      "metadata": {},
      "source": [
        "## Explain the Model with Vanilla Gradients"
      ]
    },
    {
      "cell_type": "markdown",
      "metadata": {},
      "source": []
    },
    {
      "cell_type": "code",
      "execution_count": 14,
      "metadata": {},
      "outputs": [],
      "source": [
        "def get_gradients(text, model, tokenizer):\n",
        "  \n",
        "  def get_correct_span_mask(correct_index, token_size):\n",
        "    span_mask = np.zeros((1, token_size))\n",
        "    span_mask[0, correct_index] = 1\n",
        "    span_mask = tf.constant(span_mask, dtype='float32')\n",
        "    return span_mask\n",
        "\n",
        "  embedding_matrix = model.bert.embeddings.weights[0]\n",
        "  encoded_tokens = tokenizer(text, return_tensors=\"tf\") \n",
        "  token_ids = list(encoded_tokens[\"input_ids\"].numpy()[0])\n",
        "  vocab_size = embedding_matrix.get_shape()[0]\n",
        "\n",
        "  # convert token ids to one hot. We can't differentiate wrt to int token ids hence the need for one hot representation\n",
        "  token_ids_tensor = tf.constant([token_ids], dtype='int32')\n",
        "  token_ids_tensor_one_hot = tf.one_hot(token_ids_tensor, vocab_size) \n",
        "  \n",
        "  with tf.GradientTape(watch_accessed_variables=False) as tape:\n",
        "    # (i) watch input variable\n",
        "    tape.watch(token_ids_tensor_one_hot)\n",
        " \n",
        "    # multiply input model embedding matrix; allows us do backprop wrt one hot input \n",
        "    inputs_embeds = tf.matmul(token_ids_tensor_one_hot,embedding_matrix)  \n",
        "\n",
        "    # (ii) get prediction\n",
        "    pred_scores = model({\"inputs_embeds\": inputs_embeds, \"attention_mask\": encoded_tokens[\"attention_mask\"] } ).logits\n",
        "    max_class = tf.argmax(pred_scores, axis=1).numpy()[0] \n",
        "\n",
        "    score_mask = get_correct_span_mask(max_class, pred_scores.shape[1])\n",
        "    # end_output_mask = get_correct_span_mask(answer_end, len(token_ids))\n",
        "  \n",
        "    # zero out all predictions outside of the correct  prediction class; we want to get gradients wrt to just this class  \n",
        "    predict_correct_class = tf.reduce_sum(pred_scores * score_mask ) \n",
        "\n",
        "    # (iii) get gradient of input with respect to both start and end output\n",
        "    gradient_non_normalized = tf.norm(\n",
        "        tape.gradient(predict_correct_class, token_ids_tensor_one_hot),axis=2)\n",
        "    \n",
        "    # (iv) normalize gradient scores and return them as \"explanations\"\n",
        "    gradient_tensor = (\n",
        "        gradient_non_normalized /\n",
        "        tf.reduce_max(gradient_non_normalized)\n",
        "    )\n",
        "    gradients = gradient_tensor[0].numpy().tolist() \n",
        "    token_words = tokenizer.convert_ids_to_tokens(token_ids)\n",
        "\n",
        "    prediction_label= \"political\" if max_class == 1 else \"general\"\n",
        "  return gradients, token_words , prediction_label\n",
        " \n",
        " "
      ]
    },
    {
      "cell_type": "code",
      "execution_count": 15,
      "metadata": {},
      "outputs": [],
      "source": [
        "import matplotlib.pyplot as plt\n",
        "\n",
        "def plot_gradients(tokens,gradients, title): \n",
        "  \"\"\" Plot  explanations\n",
        "  \"\"\"\n",
        "  plt.figure(figsize=(18,3)) \n",
        "  xvals = [ x + str(i) for i,x in enumerate(tokens)]\n",
        "  colors =  [ (0,0,1, c) for c in (gradients) ]\n",
        "  # edgecolors = [ \"black\" if t==0 else (0,0,1, c)  for c,t in zip(gradients, token_types) ]\n",
        "  # colors =  [  (\"r\" if t==0 else \"b\")  for c,t in zip(gradients, token_types) ]\n",
        "  plt.tick_params(axis='both', which='minor', labelsize=29)\n",
        "  p = plt.bar(xvals, gradients, color=colors, linewidth=1 )\n",
        "  plt.title(title) \n",
        "  p=plt.xticks(ticks=[i for i in range(len(tokens))], labels=tokens, fontsize=12,rotation=90) "
      ]
    },
    {
      "cell_type": "code",
      "execution_count": 17,
      "metadata": {},
      "outputs": [
        {
          "data": {
            "image/png": "[encoded data removed]",
            "text/plain": [
              "<Figure size 1296x216 with 1 Axes>"
            ]
          },
          "metadata": {
            "needs_background": "light"
          },
          "output_type": "display_data"
        },
        {
          "data": {
            "image/png": "[encoded data removed]",
            "text/plain": [
              "<Figure size 1296x216 with 1 Axes>"
            ]
          },
          "metadata": {
            "needs_background": "light"
          },
          "output_type": "display_data"
        },
        {
          "data": {
            "image/png": "[encoded data removed]",
            "text/plain": [
              "<Figure size 1296x216 with 1 Axes>"
            ]
          },
          "metadata": {
            "needs_background": "light"
          },
          "output_type": "display_data"
        },
        {
          "data": {
            "image/png": "[encoded data removed]",
            "text/plain": [
              "<Figure size 1296x216 with 1 Axes>"
            ]
          },
          "metadata": {
            "needs_background": "light"
          },
          "output_type": "display_data"
        },
        {
          "data": {
            "image/png": "[encoded data removed]",
            "text/plain": [
              "<Figure size 1296x216 with 1 Axes>"
            ]
          },
          "metadata": {
            "needs_background": "light"
          },
          "output_type": "display_data"
        },
        {
          "data": {
            "image/png": "[encoded data removed]",
            "text/plain": [
              "<Figure size 1296x216 with 1 Axes>"
            ]
          },
          "metadata": {
            "needs_background": "light"
          },
          "output_type": "display_data"
        }
      ],
      "source": [
        "texts = [\"The results of the elections appear to favour candidate Atiku\",\n",
        "         \"The sky is green and beautiful\",\n",
        "         \"The fool doth think he is wise, but the wise man knows himself to be a fool.\",\n",
        "         \"Oby ezekwesili was talking about results of the polls in today's briefing\",\n",
        "         \"I Rigged ANPP Presidential Primary For Buhari In 2003 – Bafarawa\",\n",
        "         \"Which party ran the most effective campaign strategy? APC or PDP\"]\n",
        "# texts = sorted(texts, key=len)\n",
        " \n",
        "for text in texts:\n",
        "    gradients, words, label = get_gradients(text, model, tokenizer)\n",
        "    plot_gradients(words, gradients, f\"Prediction: {label.upper()} | {text} \")\n",
        "     \n"
      ]
    },
    {
      "cell_type": "code",
      "execution_count": null,
      "metadata": {},
      "outputs": [],
      "source": []
    }
  ],
  "metadata": {
    "accelerator": "GPU",
    "colab": {
      "collapsed_sections": [],
      "name": "PoliticalTweetPredictor.ipynb",
      "provenance": []
    },
    "kernelspec": {
      "display_name": "Python 3",
      "name": "python3"
    },
    "language_info": {
      "codemirror_mode": {
        "name": "ipython",
        "version": 3
      },
      "file_extension": ".py",
      "mimetype": "text/x-python",
      "name": "python",
      "nbconvert_exporter": "python",
      "pygments_lexer": "ipython3",
      "version": "3.10.4"
    },
    "widgets": {
      "application/vnd.jupyter.widget-state+json": {
        "06935ddae38a48bd9c43e10739dc8855": {
          "model_module": "@jupyter-widgets/base",
          "model_module_version": "1.2.0",
          "model_name": "LayoutModel",
          "state": {
            "_model_module": "@jupyter-widgets/base",
            "_model_module_version": "1.2.0",
            "_model_name": "LayoutModel",
            "_view_count": null,
            "_view_module": "@jupyter-widgets/base",
            "_view_module_version": "1.2.0",
            "_view_name": "LayoutView",
            "align_content": null,
            "align_items": null,
            "align_self": null,
            "border": null,
            "bottom": null,
            "display": null,
            "flex": null,
            "flex_flow": null,
            "grid_area": null,
            "grid_auto_columns": null,
            "grid_auto_flow": null,
            "grid_auto_rows": null,
            "grid_column": null,
            "grid_gap": null,
            "grid_row": null,
            "grid_template_areas": null,
            "grid_template_columns": null,
            "grid_template_rows": null,
            "height": null,
            "justify_content": null,
            "justify_items": null,
            "left": null,
            "margin": null,
            "max_height": null,
            "max_width": null,
            "min_height": null,
            "min_width": null,
            "object_fit": null,
            "object_position": null,
            "order": null,
            "overflow": null,
            "overflow_x": null,
            "overflow_y": null,
            "padding": null,
            "right": null,
            "top": null,
            "visibility": null,
            "width": null
          }
        },
        "1cb9bcff4df546a3a8c401a73042d63a": {
          "model_module": "@jupyter-widgets/base",
          "model_module_version": "1.2.0",
          "model_name": "LayoutModel",
          "state": {
            "_model_module": "@jupyter-widgets/base",
            "_model_module_version": "1.2.0",
            "_model_name": "LayoutModel",
            "_view_count": null,
            "_view_module": "@jupyter-widgets/base",
            "_view_module_version": "1.2.0",
            "_view_name": "LayoutView",
            "align_content": null,
            "align_items": null,
            "align_self": null,
            "border": null,
            "bottom": null,
            "display": null,
            "flex": null,
            "flex_flow": null,
            "grid_area": null,
            "grid_auto_columns": null,
            "grid_auto_flow": null,
            "grid_auto_rows": null,
            "grid_column": null,
            "grid_gap": null,
            "grid_row": null,
            "grid_template_areas": null,
            "grid_template_columns": null,
            "grid_template_rows": null,
            "height": null,
            "justify_content": null,
            "justify_items": null,
            "left": null,
            "margin": null,
            "max_height": null,
            "max_width": null,
            "min_height": null,
            "min_width": null,
            "object_fit": null,
            "object_position": null,
            "order": null,
            "overflow": null,
            "overflow_x": null,
            "overflow_y": null,
            "padding": null,
            "right": null,
            "top": null,
            "visibility": null,
            "width": null
          }
        },
        "1fea9e0c7ebf423c8e9c6ba919bf0946": {
          "model_module": "@jupyter-widgets/controls",
          "model_module_version": "1.5.0",
          "model_name": "HTMLModel",
          "state": {
            "_dom_classes": [],
            "_model_module": "@jupyter-widgets/controls",
            "_model_module_version": "1.5.0",
            "_model_name": "HTMLModel",
            "_view_count": null,
            "_view_module": "@jupyter-widgets/controls",
            "_view_module_version": "1.5.0",
            "_view_name": "HTMLView",
            "description": "",
            "description_tooltip": null,
            "layout": "IPY_MODEL_1cb9bcff4df546a3a8c401a73042d63a",
            "placeholder": "​",
            "style": "IPY_MODEL_3136e38d68ea4402b78e8d9c5911017f",
            "value": " 8/8 [12:22:11&lt;00:00, 4979.07s/it]"
          }
        },
        "2b7bd9a408774f228f4f90b0472decd3": {
          "model_module": "@jupyter-widgets/controls",
          "model_module_version": "1.5.0",
          "model_name": "DescriptionStyleModel",
          "state": {
            "_model_module": "@jupyter-widgets/controls",
            "_model_module_version": "1.5.0",
            "_model_name": "DescriptionStyleModel",
            "_view_count": null,
            "_view_module": "@jupyter-widgets/base",
            "_view_module_version": "1.2.0",
            "_view_name": "StyleView",
            "description_width": ""
          }
        },
        "3136e38d68ea4402b78e8d9c5911017f": {
          "model_module": "@jupyter-widgets/controls",
          "model_module_version": "1.5.0",
          "model_name": "DescriptionStyleModel",
          "state": {
            "_model_module": "@jupyter-widgets/controls",
            "_model_module_version": "1.5.0",
            "_model_name": "DescriptionStyleModel",
            "_view_count": null,
            "_view_module": "@jupyter-widgets/base",
            "_view_module_version": "1.2.0",
            "_view_name": "StyleView",
            "description_width": ""
          }
        },
        "45402f162d4b4bf1b875e29296bdf195": {
          "model_module": "@jupyter-widgets/controls",
          "model_module_version": "1.5.0",
          "model_name": "HTMLModel",
          "state": {
            "_dom_classes": [],
            "_model_module": "@jupyter-widgets/controls",
            "_model_module_version": "1.5.0",
            "_model_name": "HTMLModel",
            "_view_count": null,
            "_view_module": "@jupyter-widgets/controls",
            "_view_module_version": "1.5.0",
            "_view_name": "HTMLView",
            "description": "",
            "description_tooltip": null,
            "layout": "IPY_MODEL_4cdf3280825d456f981fd193bea5f81b",
            "placeholder": "​",
            "style": "IPY_MODEL_2b7bd9a408774f228f4f90b0472decd3",
            "value": "100%"
          }
        },
        "4cdf3280825d456f981fd193bea5f81b": {
          "model_module": "@jupyter-widgets/base",
          "model_module_version": "1.2.0",
          "model_name": "LayoutModel",
          "state": {
            "_model_module": "@jupyter-widgets/base",
            "_model_module_version": "1.2.0",
            "_model_name": "LayoutModel",
            "_view_count": null,
            "_view_module": "@jupyter-widgets/base",
            "_view_module_version": "1.2.0",
            "_view_name": "LayoutView",
            "align_content": null,
            "align_items": null,
            "align_self": null,
            "border": null,
            "bottom": null,
            "display": null,
            "flex": null,
            "flex_flow": null,
            "grid_area": null,
            "grid_auto_columns": null,
            "grid_auto_flow": null,
            "grid_auto_rows": null,
            "grid_column": null,
            "grid_gap": null,
            "grid_row": null,
            "grid_template_areas": null,
            "grid_template_columns": null,
            "grid_template_rows": null,
            "height": null,
            "justify_content": null,
            "justify_items": null,
            "left": null,
            "margin": null,
            "max_height": null,
            "max_width": null,
            "min_height": null,
            "min_width": null,
            "object_fit": null,
            "object_position": null,
            "order": null,
            "overflow": null,
            "overflow_x": null,
            "overflow_y": null,
            "padding": null,
            "right": null,
            "top": null,
            "visibility": null,
            "width": null
          }
        },
        "7a17e67a046845f7b4218d3ff062c05f": {
          "model_module": "@jupyter-widgets/controls",
          "model_module_version": "1.5.0",
          "model_name": "ProgressStyleModel",
          "state": {
            "_model_module": "@jupyter-widgets/controls",
            "_model_module_version": "1.5.0",
            "_model_name": "ProgressStyleModel",
            "_view_count": null,
            "_view_module": "@jupyter-widgets/base",
            "_view_module_version": "1.2.0",
            "_view_name": "StyleView",
            "bar_color": null,
            "description_width": ""
          }
        },
        "82ba3cce18a8426fb0cda8104c9a1da1": {
          "model_module": "@jupyter-widgets/base",
          "model_module_version": "1.2.0",
          "model_name": "LayoutModel",
          "state": {
            "_model_module": "@jupyter-widgets/base",
            "_model_module_version": "1.2.0",
            "_model_name": "LayoutModel",
            "_view_count": null,
            "_view_module": "@jupyter-widgets/base",
            "_view_module_version": "1.2.0",
            "_view_name": "LayoutView",
            "align_content": null,
            "align_items": null,
            "align_self": null,
            "border": null,
            "bottom": null,
            "display": null,
            "flex": null,
            "flex_flow": null,
            "grid_area": null,
            "grid_auto_columns": null,
            "grid_auto_flow": null,
            "grid_auto_rows": null,
            "grid_column": null,
            "grid_gap": null,
            "grid_row": null,
            "grid_template_areas": null,
            "grid_template_columns": null,
            "grid_template_rows": null,
            "height": null,
            "justify_content": null,
            "justify_items": null,
            "left": null,
            "margin": null,
            "max_height": null,
            "max_width": null,
            "min_height": null,
            "min_width": null,
            "object_fit": null,
            "object_position": null,
            "order": null,
            "overflow": null,
            "overflow_x": null,
            "overflow_y": null,
            "padding": null,
            "right": null,
            "top": null,
            "visibility": null,
            "width": null
          }
        },
        "a96ff2c465b74de8bb39c58bed826d01": {
          "model_module": "@jupyter-widgets/controls",
          "model_module_version": "1.5.0",
          "model_name": "FloatProgressModel",
          "state": {
            "_dom_classes": [],
            "_model_module": "@jupyter-widgets/controls",
            "_model_module_version": "1.5.0",
            "_model_name": "FloatProgressModel",
            "_view_count": null,
            "_view_module": "@jupyter-widgets/controls",
            "_view_module_version": "1.5.0",
            "_view_name": "ProgressView",
            "bar_style": "success",
            "description": "",
            "description_tooltip": null,
            "layout": "IPY_MODEL_82ba3cce18a8426fb0cda8104c9a1da1",
            "max": 8,
            "min": 0,
            "orientation": "horizontal",
            "style": "IPY_MODEL_7a17e67a046845f7b4218d3ff062c05f",
            "value": 8
          }
        },
        "c66c551300264d61a3fb8c5aefb1e2da": {
          "model_module": "@jupyter-widgets/controls",
          "model_module_version": "1.5.0",
          "model_name": "HBoxModel",
          "state": {
            "_dom_classes": [],
            "_model_module": "@jupyter-widgets/controls",
            "_model_module_version": "1.5.0",
            "_model_name": "HBoxModel",
            "_view_count": null,
            "_view_module": "@jupyter-widgets/controls",
            "_view_module_version": "1.5.0",
            "_view_name": "HBoxView",
            "box_style": "",
            "children": [
              "IPY_MODEL_45402f162d4b4bf1b875e29296bdf195",
              "IPY_MODEL_a96ff2c465b74de8bb39c58bed826d01",
              "IPY_MODEL_1fea9e0c7ebf423c8e9c6ba919bf0946"
            ],
            "layout": "IPY_MODEL_06935ddae38a48bd9c43e10739dc8855"
          }
        }
      }
    }
  },
  "nbformat": 4,
  "nbformat_minor": 0
}
