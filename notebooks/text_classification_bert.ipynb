{
  "cells": [
    {
      "cell_type": "markdown",
      "metadata": {},
      "source": [
        "## Text Classification with Huggingface BERT models\n",
        "\n",
        "This notebook demonstrates finetuning a Huggingface BERT model on the task of text classification using the Tensorflow framework. It also provides examples on running predictions using the huggingface `pipeline` api and a custom prediction method."
      ]
    },
    {
      "cell_type": "code",
      "execution_count": 18,
      "metadata": {
        "id": "bJsMIIdmmIFR"
      },
      "outputs": [],
      "source": [
        "# !pip install -q transformers"
      ]
    },
    {
      "cell_type": "code",
      "execution_count": 19,
      "metadata": {
        "colab": {
          "base_uri": "https://localhost:8080/"
        },
        "id": "ZCxlU_iXrkJ-",
        "outputId": "d4e61fc8-3750-48b1-d4a0-e4c3648ae75f"
      },
      "outputs": [],
      "source": [
        "import pandas as pd\n",
        "from tqdm.notebook import tqdm\n",
        "from transformers import BertTokenizerFast,TFBertForSequenceClassification\n",
        "import numpy as np\n",
        "import tensorflow as tf \n",
        "from tqdm.notebook import tqdm "
      ]
    },
    {
      "cell_type": "markdown",
      "metadata": {},
      "source": [
        "## Data \n",
        "\n",
        "We create sample data to illustrate training."
      ]
    },
    {
      "cell_type": "code",
      "execution_count": 20,
      "metadata": {
        "id": "g8b5tUnZmPXU"
      },
      "outputs": [],
      "source": [
        "# example data political text has label 1, non-political text has label 0\n",
        "data = [{'text': 'The president provided his stance on the wind mill policy today', 'label': 1},\n",
        "{'text': 'The sun is shining bright and the day looks nice', 'label': 0},\n",
        "{'text': 'The senators gathers to deliberate on climate change laws', 'label': 1},\n",
        "{'text': 'Oh to be young and feel loves keen sting - Albus Dumbledore', 'label': 0}, \n",
        "]\n",
        "data = data * 100\n",
        "data = pd.DataFrame(data) "
      ]
    },
    {
      "cell_type": "markdown",
      "metadata": {},
      "source": [
        "## Initialize Model and Tokenizer\n",
        "\n",
        "Download a pretrained model and tokenizer."
      ]
    },
    {
      "cell_type": "code",
      "execution_count": null,
      "metadata": {
        "colab": {
          "base_uri": "https://localhost:8080/"
        },
        "id": "zYMlnkJM4oc8",
        "outputId": "8ddcf30e-5aab-4646-f072-91c002406a91"
      },
      "outputs": [],
      "source": [
        "model_output_path = \"models/text_classification\"\n",
        "model_path = \"bert-base-uncased\"\n",
        "\n",
        "\n",
        "tokenizer = BertTokenizerFast.from_pretrained(model_path)\n",
        "model = TFBertForSequenceClassification.from_pretrained(model_path)\n",
        "\n",
        "lr_schedule = tf.keras.optimizers.schedules.ExponentialDecay(\n",
        "    initial_learning_rate=5e-5,\n",
        "    decay_steps=10000,\n",
        "    decay_rate=0.9)\n",
        "optimizer = tf.keras.optimizers.Adam(learning_rate=lr_schedule)\n",
        "model.compile(optimizer=optimizer, \n",
        "              loss=tf.keras.losses.SparseCategoricalCrossentropy(from_logits=True),\n",
        "              metrics=tf.metrics.SparseCategoricalAccuracy()\n",
        "              ) # can also use any keras loss fn"
      ]
    },
    {
      "cell_type": "code",
      "execution_count": null,
      "metadata": {
        "id": "njTBsBna-R0c"
      },
      "outputs": [],
      "source": [
        "# Convert the text in the dataframe to a `tf.data` pipeline.\n",
        "\n",
        "def get_train_ds(data, batch_size=32): \n",
        "  X_train, y_train = list(data.text), list(data.label) \n",
        "  train_encodings = tokenizer(X_train, truncation=True, padding=True)  \n",
        "  train_ds = tf.data.Dataset.from_tensor_slices((\n",
        "      dict(train_encodings),\n",
        "      y_train\n",
        "  ))   \n",
        "  train_ds = train_ds.batch(batch_size) \n",
        "  return train_ds\n",
        "\n",
        "def train_on_slice(train_ds, num_epochs=1):\n",
        "  model.fit(train_ds, epochs=num_epochs)   \n",
        "  tokenizer.save_pretrained(f\"{model_output_path}\")\n",
        "  model.save_pretrained(f\"{model_output_path}\")"
      ]
    },
    {
      "cell_type": "code",
      "execution_count": null,
      "metadata": {
        "id": "8h8Yga2j-l_f"
      },
      "outputs": [
        {
          "name": "stdout",
          "output_type": "stream",
          "text": [
            "13/13 [==============================] - 19s 903ms/step - loss: 0.2336 - sparse_categorical_accuracy: 0.9600\n"
          ]
        }
      ],
      "source": [
        "train_ds = get_train_ds(data)\n",
        "train_on_slice(train_ds) "
      ]
    },
    {
      "cell_type": "markdown",
      "metadata": {},
      "source": [
        "## Predictions \n",
        "\n",
        "We can make predictions with the huggingface pipeline api or write a custom prediction method."
      ]
    },
    {
      "cell_type": "code",
      "execution_count": null,
      "metadata": {},
      "outputs": [],
      "source": [
        "from transformers import TextClassificationPipeline\n",
        "\n",
        "tokenizer = BertTokenizerFast.from_pretrained(model_output_path)\n",
        "model = TFBertForSequenceClassification.from_pretrained(model_output_path, id2label={1: 'political', 0: 'general'} ) # modify labels as needed. \n",
        "pipe = TextClassificationPipeline(model=model, tokenizer=tokenizer)"
      ]
    },
    {
      "cell_type": "code",
      "execution_count": 44,
      "metadata": {},
      "outputs": [
        {
          "data": {
            "text/plain": [
              "[{'label': 'political', 'score': 0.979645311832428},\n",
              " {'label': 'general', 'score': 0.9694413542747498},\n",
              " {'label': 'political', 'score': 0.9788018465042114},\n",
              " {'label': 'general', 'score': 0.9729897975921631},\n",
              " {'label': 'political', 'score': 0.979645311832428}]"
            ]
          },
          "execution_count": 44,
          "metadata": {},
          "output_type": "execute_result"
        }
      ],
      "source": [
        "texts = data.text.tolist()[:5]\n",
        "preds = pipe(texts)\n",
        "preds"
      ]
    },
    {
      "cell_type": "code",
      "execution_count": 45,
      "metadata": {},
      "outputs": [
        {
          "data": {
            "text/html": [
              "<div>\n",
              "<style scoped>\n",
              "    .dataframe tbody tr th:only-of-type {\n",
              "        vertical-align: middle;\n",
              "    }\n",
              "\n",
              "    .dataframe tbody tr th {\n",
              "        vertical-align: top;\n",
              "    }\n",
              "\n",
              "    .dataframe thead th {\n",
              "        text-align: right;\n",
              "    }\n",
              "</style>\n",
              "<table border=\"1\" class=\"dataframe\">\n",
              "  <thead>\n",
              "    <tr style=\"text-align: right;\">\n",
              "      <th></th>\n",
              "      <th>label</th>\n",
              "      <th>score</th>\n",
              "      <th>text</th>\n",
              "    </tr>\n",
              "  </thead>\n",
              "  <tbody>\n",
              "    <tr>\n",
              "      <th>0</th>\n",
              "      <td>political</td>\n",
              "      <td>0.979645</td>\n",
              "      <td>The president provided his stance on the wind ...</td>\n",
              "    </tr>\n",
              "    <tr>\n",
              "      <th>1</th>\n",
              "      <td>general</td>\n",
              "      <td>0.969441</td>\n",
              "      <td>The sun is shining bright and the day looks nice</td>\n",
              "    </tr>\n",
              "    <tr>\n",
              "      <th>2</th>\n",
              "      <td>political</td>\n",
              "      <td>0.978802</td>\n",
              "      <td>The senators gathers to deliberate on climate ...</td>\n",
              "    </tr>\n",
              "    <tr>\n",
              "      <th>3</th>\n",
              "      <td>general</td>\n",
              "      <td>0.972990</td>\n",
              "      <td>Oh to be young and feel loves keen sting - Alb...</td>\n",
              "    </tr>\n",
              "    <tr>\n",
              "      <th>4</th>\n",
              "      <td>political</td>\n",
              "      <td>0.979645</td>\n",
              "      <td>The president provided his stance on the wind ...</td>\n",
              "    </tr>\n",
              "  </tbody>\n",
              "</table>\n",
              "</div>"
            ],
            "text/plain": [
              "       label     score                                               text\n",
              "0  political  0.979645  The president provided his stance on the wind ...\n",
              "1    general  0.969441   The sun is shining bright and the day looks nice\n",
              "2  political  0.978802  The senators gathers to deliberate on climate ...\n",
              "3    general  0.972990  Oh to be young and feel loves keen sting - Alb...\n",
              "4  political  0.979645  The president provided his stance on the wind ..."
            ]
          },
          "execution_count": 45,
          "metadata": {},
          "output_type": "execute_result"
        }
      ],
      "source": [
        "preds_df = pd.DataFrame(preds)\n",
        "preds_df[\"text\"] = texts\n",
        "preds_df"
      ]
    },
    {
      "cell_type": "markdown",
      "metadata": {},
      "source": [
        "## Custom Prediction Method"
      ]
    },
    {
      "cell_type": "code",
      "execution_count": 48,
      "metadata": {},
      "outputs": [],
      "source": [
        "def extract_predictions( text, model, tokenizer, batch_size=256): \n",
        "  a_preds = []\n",
        "  a_scores = []  \n",
        "  chunks = range(0,len(text), batch_size)\n",
        "  for i,x, in tqdm(enumerate(chunks), desc=\"batching and predicting\", total=len(chunks)):\n",
        "    start, end = x, x+batch_size\n",
        "    stext = text[start: end]\n",
        "    # print(start,end)\n",
        "    data_encodings = tokenizer(stext, truncation=True, padding=True)  \n",
        "    ds = tf.data.Dataset.from_tensor_slices(dict(data_encodings)).batch(batch_size)  \n",
        "\n",
        "    preds = model.predict(ds)[\"logits\"] \n",
        "    classes = np.argmax(preds, axis=1).tolist() \n",
        "    probs = tf.nn.softmax(preds) # get probabilities from logits\n",
        "    scores = np.amax(probs, axis=1).tolist()   \n",
        "    a_preds.extend(classes)\n",
        "    a_scores.extend(scores) \n",
        "   \n",
        "  ans = []\n",
        "  for i in range(len(a_preds)):  # map labels to label titles \n",
        "    ans.append({\n",
        "        \"label\": \"general\" if a_preds[i] == 0 else \"political\",\n",
        "        \"score\": a_scores[i]\n",
        "    })\n",
        "  result = pd.DataFrame(ans) \n",
        "  return result"
      ]
    },
    {
      "cell_type": "code",
      "execution_count": 49,
      "metadata": {},
      "outputs": [
        {
          "data": {
            "application/vnd.jupyter.widget-view+json": {
              "model_id": "bec7c609914a443194be11a233535be4",
              "version_major": 2,
              "version_minor": 0
            },
            "text/plain": [
              "batching and predicting:   0%|          | 0/1 [00:00<?, ?it/s]"
            ]
          },
          "metadata": {},
          "output_type": "display_data"
        },
        {
          "data": {
            "text/html": [
              "<div>\n",
              "<style scoped>\n",
              "    .dataframe tbody tr th:only-of-type {\n",
              "        vertical-align: middle;\n",
              "    }\n",
              "\n",
              "    .dataframe tbody tr th {\n",
              "        vertical-align: top;\n",
              "    }\n",
              "\n",
              "    .dataframe thead th {\n",
              "        text-align: right;\n",
              "    }\n",
              "</style>\n",
              "<table border=\"1\" class=\"dataframe\">\n",
              "  <thead>\n",
              "    <tr style=\"text-align: right;\">\n",
              "      <th></th>\n",
              "      <th>label</th>\n",
              "      <th>score</th>\n",
              "      <th>text</th>\n",
              "    </tr>\n",
              "  </thead>\n",
              "  <tbody>\n",
              "    <tr>\n",
              "      <th>0</th>\n",
              "      <td>political</td>\n",
              "      <td>0.979645</td>\n",
              "      <td>The president provided his stance on the wind ...</td>\n",
              "    </tr>\n",
              "    <tr>\n",
              "      <th>1</th>\n",
              "      <td>general</td>\n",
              "      <td>0.969441</td>\n",
              "      <td>The sun is shining bright and the day looks nice</td>\n",
              "    </tr>\n",
              "    <tr>\n",
              "      <th>2</th>\n",
              "      <td>political</td>\n",
              "      <td>0.978802</td>\n",
              "      <td>The senators gathers to deliberate on climate ...</td>\n",
              "    </tr>\n",
              "    <tr>\n",
              "      <th>3</th>\n",
              "      <td>general</td>\n",
              "      <td>0.972990</td>\n",
              "      <td>Oh to be young and feel loves keen sting - Alb...</td>\n",
              "    </tr>\n",
              "    <tr>\n",
              "      <th>4</th>\n",
              "      <td>political</td>\n",
              "      <td>0.979645</td>\n",
              "      <td>The president provided his stance on the wind ...</td>\n",
              "    </tr>\n",
              "  </tbody>\n",
              "</table>\n",
              "</div>"
            ],
            "text/plain": [
              "       label     score                                               text\n",
              "0  political  0.979645  The president provided his stance on the wind ...\n",
              "1    general  0.969441   The sun is shining bright and the day looks nice\n",
              "2  political  0.978802  The senators gathers to deliberate on climate ...\n",
              "3    general  0.972990  Oh to be young and feel loves keen sting - Alb...\n",
              "4  political  0.979645  The president provided his stance on the wind ..."
            ]
          },
          "execution_count": 49,
          "metadata": {},
          "output_type": "execute_result"
        }
      ],
      "source": [
        "preds_df = extract_predictions(texts, model, tokenizer,)\n",
        "preds_df[\"text\"] = texts\n",
        "preds_df"
      ]
    }
  ],
  "metadata": {
    "accelerator": "GPU",
    "colab": {
      "collapsed_sections": [],
      "name": "PoliticalTweetPredictor.ipynb",
      "provenance": []
    },
    "kernelspec": {
      "display_name": "Python 3",
      "name": "python3"
    },
    "language_info": {
      "codemirror_mode": {
        "name": "ipython",
        "version": 3
      },
      "file_extension": ".py",
      "mimetype": "text/x-python",
      "name": "python",
      "nbconvert_exporter": "python",
      "pygments_lexer": "ipython3",
      "version": "3.9.10"
    },
    "widgets": {
      "application/vnd.jupyter.widget-state+json": {
        "06935ddae38a48bd9c43e10739dc8855": {
          "model_module": "@jupyter-widgets/base",
          "model_module_version": "1.2.0",
          "model_name": "LayoutModel",
          "state": {
            "_model_module": "@jupyter-widgets/base",
            "_model_module_version": "1.2.0",
            "_model_name": "LayoutModel",
            "_view_count": null,
            "_view_module": "@jupyter-widgets/base",
            "_view_module_version": "1.2.0",
            "_view_name": "LayoutView",
            "align_content": null,
            "align_items": null,
            "align_self": null,
            "border": null,
            "bottom": null,
            "display": null,
            "flex": null,
            "flex_flow": null,
            "grid_area": null,
            "grid_auto_columns": null,
            "grid_auto_flow": null,
            "grid_auto_rows": null,
            "grid_column": null,
            "grid_gap": null,
            "grid_row": null,
            "grid_template_areas": null,
            "grid_template_columns": null,
            "grid_template_rows": null,
            "height": null,
            "justify_content": null,
            "justify_items": null,
            "left": null,
            "margin": null,
            "max_height": null,
            "max_width": null,
            "min_height": null,
            "min_width": null,
            "object_fit": null,
            "object_position": null,
            "order": null,
            "overflow": null,
            "overflow_x": null,
            "overflow_y": null,
            "padding": null,
            "right": null,
            "top": null,
            "visibility": null,
            "width": null
          }
        },
        "1cb9bcff4df546a3a8c401a73042d63a": {
          "model_module": "@jupyter-widgets/base",
          "model_module_version": "1.2.0",
          "model_name": "LayoutModel",
          "state": {
            "_model_module": "@jupyter-widgets/base",
            "_model_module_version": "1.2.0",
            "_model_name": "LayoutModel",
            "_view_count": null,
            "_view_module": "@jupyter-widgets/base",
            "_view_module_version": "1.2.0",
            "_view_name": "LayoutView",
            "align_content": null,
            "align_items": null,
            "align_self": null,
            "border": null,
            "bottom": null,
            "display": null,
            "flex": null,
            "flex_flow": null,
            "grid_area": null,
            "grid_auto_columns": null,
            "grid_auto_flow": null,
            "grid_auto_rows": null,
            "grid_column": null,
            "grid_gap": null,
            "grid_row": null,
            "grid_template_areas": null,
            "grid_template_columns": null,
            "grid_template_rows": null,
            "height": null,
            "justify_content": null,
            "justify_items": null,
            "left": null,
            "margin": null,
            "max_height": null,
            "max_width": null,
            "min_height": null,
            "min_width": null,
            "object_fit": null,
            "object_position": null,
            "order": null,
            "overflow": null,
            "overflow_x": null,
            "overflow_y": null,
            "padding": null,
            "right": null,
            "top": null,
            "visibility": null,
            "width": null
          }
        },
        "1fea9e0c7ebf423c8e9c6ba919bf0946": {
          "model_module": "@jupyter-widgets/controls",
          "model_module_version": "1.5.0",
          "model_name": "HTMLModel",
          "state": {
            "_dom_classes": [],
            "_model_module": "@jupyter-widgets/controls",
            "_model_module_version": "1.5.0",
            "_model_name": "HTMLModel",
            "_view_count": null,
            "_view_module": "@jupyter-widgets/controls",
            "_view_module_version": "1.5.0",
            "_view_name": "HTMLView",
            "description": "",
            "description_tooltip": null,
            "layout": "IPY_MODEL_1cb9bcff4df546a3a8c401a73042d63a",
            "placeholder": "​",
            "style": "IPY_MODEL_3136e38d68ea4402b78e8d9c5911017f",
            "value": " 8/8 [12:22:11&lt;00:00, 4979.07s/it]"
          }
        },
        "2b7bd9a408774f228f4f90b0472decd3": {
          "model_module": "@jupyter-widgets/controls",
          "model_module_version": "1.5.0",
          "model_name": "DescriptionStyleModel",
          "state": {
            "_model_module": "@jupyter-widgets/controls",
            "_model_module_version": "1.5.0",
            "_model_name": "DescriptionStyleModel",
            "_view_count": null,
            "_view_module": "@jupyter-widgets/base",
            "_view_module_version": "1.2.0",
            "_view_name": "StyleView",
            "description_width": ""
          }
        },
        "3136e38d68ea4402b78e8d9c5911017f": {
          "model_module": "@jupyter-widgets/controls",
          "model_module_version": "1.5.0",
          "model_name": "DescriptionStyleModel",
          "state": {
            "_model_module": "@jupyter-widgets/controls",
            "_model_module_version": "1.5.0",
            "_model_name": "DescriptionStyleModel",
            "_view_count": null,
            "_view_module": "@jupyter-widgets/base",
            "_view_module_version": "1.2.0",
            "_view_name": "StyleView",
            "description_width": ""
          }
        },
        "45402f162d4b4bf1b875e29296bdf195": {
          "model_module": "@jupyter-widgets/controls",
          "model_module_version": "1.5.0",
          "model_name": "HTMLModel",
          "state": {
            "_dom_classes": [],
            "_model_module": "@jupyter-widgets/controls",
            "_model_module_version": "1.5.0",
            "_model_name": "HTMLModel",
            "_view_count": null,
            "_view_module": "@jupyter-widgets/controls",
            "_view_module_version": "1.5.0",
            "_view_name": "HTMLView",
            "description": "",
            "description_tooltip": null,
            "layout": "IPY_MODEL_4cdf3280825d456f981fd193bea5f81b",
            "placeholder": "​",
            "style": "IPY_MODEL_2b7bd9a408774f228f4f90b0472decd3",
            "value": "100%"
          }
        },
        "4cdf3280825d456f981fd193bea5f81b": {
          "model_module": "@jupyter-widgets/base",
          "model_module_version": "1.2.0",
          "model_name": "LayoutModel",
          "state": {
            "_model_module": "@jupyter-widgets/base",
            "_model_module_version": "1.2.0",
            "_model_name": "LayoutModel",
            "_view_count": null,
            "_view_module": "@jupyter-widgets/base",
            "_view_module_version": "1.2.0",
            "_view_name": "LayoutView",
            "align_content": null,
            "align_items": null,
            "align_self": null,
            "border": null,
            "bottom": null,
            "display": null,
            "flex": null,
            "flex_flow": null,
            "grid_area": null,
            "grid_auto_columns": null,
            "grid_auto_flow": null,
            "grid_auto_rows": null,
            "grid_column": null,
            "grid_gap": null,
            "grid_row": null,
            "grid_template_areas": null,
            "grid_template_columns": null,
            "grid_template_rows": null,
            "height": null,
            "justify_content": null,
            "justify_items": null,
            "left": null,
            "margin": null,
            "max_height": null,
            "max_width": null,
            "min_height": null,
            "min_width": null,
            "object_fit": null,
            "object_position": null,
            "order": null,
            "overflow": null,
            "overflow_x": null,
            "overflow_y": null,
            "padding": null,
            "right": null,
            "top": null,
            "visibility": null,
            "width": null
          }
        },
        "7a17e67a046845f7b4218d3ff062c05f": {
          "model_module": "@jupyter-widgets/controls",
          "model_module_version": "1.5.0",
          "model_name": "ProgressStyleModel",
          "state": {
            "_model_module": "@jupyter-widgets/controls",
            "_model_module_version": "1.5.0",
            "_model_name": "ProgressStyleModel",
            "_view_count": null,
            "_view_module": "@jupyter-widgets/base",
            "_view_module_version": "1.2.0",
            "_view_name": "StyleView",
            "bar_color": null,
            "description_width": ""
          }
        },
        "82ba3cce18a8426fb0cda8104c9a1da1": {
          "model_module": "@jupyter-widgets/base",
          "model_module_version": "1.2.0",
          "model_name": "LayoutModel",
          "state": {
            "_model_module": "@jupyter-widgets/base",
            "_model_module_version": "1.2.0",
            "_model_name": "LayoutModel",
            "_view_count": null,
            "_view_module": "@jupyter-widgets/base",
            "_view_module_version": "1.2.0",
            "_view_name": "LayoutView",
            "align_content": null,
            "align_items": null,
            "align_self": null,
            "border": null,
            "bottom": null,
            "display": null,
            "flex": null,
            "flex_flow": null,
            "grid_area": null,
            "grid_auto_columns": null,
            "grid_auto_flow": null,
            "grid_auto_rows": null,
            "grid_column": null,
            "grid_gap": null,
            "grid_row": null,
            "grid_template_areas": null,
            "grid_template_columns": null,
            "grid_template_rows": null,
            "height": null,
            "justify_content": null,
            "justify_items": null,
            "left": null,
            "margin": null,
            "max_height": null,
            "max_width": null,
            "min_height": null,
            "min_width": null,
            "object_fit": null,
            "object_position": null,
            "order": null,
            "overflow": null,
            "overflow_x": null,
            "overflow_y": null,
            "padding": null,
            "right": null,
            "top": null,
            "visibility": null,
            "width": null
          }
        },
        "a96ff2c465b74de8bb39c58bed826d01": {
          "model_module": "@jupyter-widgets/controls",
          "model_module_version": "1.5.0",
          "model_name": "FloatProgressModel",
          "state": {
            "_dom_classes": [],
            "_model_module": "@jupyter-widgets/controls",
            "_model_module_version": "1.5.0",
            "_model_name": "FloatProgressModel",
            "_view_count": null,
            "_view_module": "@jupyter-widgets/controls",
            "_view_module_version": "1.5.0",
            "_view_name": "ProgressView",
            "bar_style": "success",
            "description": "",
            "description_tooltip": null,
            "layout": "IPY_MODEL_82ba3cce18a8426fb0cda8104c9a1da1",
            "max": 8,
            "min": 0,
            "orientation": "horizontal",
            "style": "IPY_MODEL_7a17e67a046845f7b4218d3ff062c05f",
            "value": 8
          }
        },
        "c66c551300264d61a3fb8c5aefb1e2da": {
          "model_module": "@jupyter-widgets/controls",
          "model_module_version": "1.5.0",
          "model_name": "HBoxModel",
          "state": {
            "_dom_classes": [],
            "_model_module": "@jupyter-widgets/controls",
            "_model_module_version": "1.5.0",
            "_model_name": "HBoxModel",
            "_view_count": null,
            "_view_module": "@jupyter-widgets/controls",
            "_view_module_version": "1.5.0",
            "_view_name": "HBoxView",
            "box_style": "",
            "children": [
              "IPY_MODEL_45402f162d4b4bf1b875e29296bdf195",
              "IPY_MODEL_a96ff2c465b74de8bb39c58bed826d01",
              "IPY_MODEL_1fea9e0c7ebf423c8e9c6ba919bf0946"
            ],
            "layout": "IPY_MODEL_06935ddae38a48bd9c43e10739dc8855"
          }
        }
      }
    }
  },
  "nbformat": 4,
  "nbformat_minor": 0
}
